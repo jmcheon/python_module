{
 "cells": [
  {
   "cell_type": "code",
   "execution_count": 30,
   "id": "e2a82810",
   "metadata": {},
   "outputs": [],
   "source": [
    "import numpy as np\n",
    "a = np.random.randint(10, 100, 60).reshape(3,5,4)"
   ]
  },
  {
   "cell_type": "code",
   "execution_count": 31,
   "id": "f5ebe2d0",
   "metadata": {},
   "outputs": [
    {
     "data": {
      "text/plain": [
       "array([[[14, 38, 18, 80],\n",
       "        [50, 19, 15, 99],\n",
       "        [93, 41, 56, 76],\n",
       "        [39, 22, 98, 69],\n",
       "        [36, 17, 59, 68]],\n",
       "\n",
       "       [[12, 26, 29, 77],\n",
       "        [55, 51, 71, 91],\n",
       "        [62, 72, 69, 51],\n",
       "        [16, 45, 75, 73],\n",
       "        [80, 54, 88, 40]],\n",
       "\n",
       "       [[52, 16, 34, 88],\n",
       "        [91, 41, 14, 49],\n",
       "        [20, 61, 79, 29],\n",
       "        [39, 51, 92, 48],\n",
       "        [61, 11, 35, 57]]])"
      ]
     },
     "execution_count": 31,
     "metadata": {},
     "output_type": "execute_result"
    }
   ],
   "source": [
    "a"
   ]
  },
  {
   "cell_type": "code",
   "execution_count": 32,
   "id": "89611664",
   "metadata": {},
   "outputs": [
    {
     "data": {
      "text/plain": [
       "array([[1, 2, 0, 1],\n",
       "       [0, 0, 2, 2],\n",
       "       [2, 0, 0, 2],\n",
       "       [1, 0, 1, 2],\n",
       "       [0, 2, 2, 1]])"
      ]
     },
     "execution_count": 32,
     "metadata": {},
     "output_type": "execute_result"
    }
   ],
   "source": [
    "a.argmin(axis=0)"
   ]
  },
  {
   "cell_type": "code",
   "execution_count": 33,
   "id": "a81fabc8",
   "metadata": {},
   "outputs": [
    {
     "data": {
      "text/plain": [
       "array([[0, 4, 1, 4],\n",
       "       [0, 0, 0, 4],\n",
       "       [2, 4, 1, 2]])"
      ]
     },
     "execution_count": 33,
     "metadata": {},
     "output_type": "execute_result"
    }
   ],
   "source": [
    "a.argmin(axis=1)"
   ]
  },
  {
   "cell_type": "code",
   "execution_count": 34,
   "id": "38e3a07f",
   "metadata": {},
   "outputs": [
    {
     "data": {
      "text/plain": [
       "array([[0, 2, 1, 1, 1],\n",
       "       [0, 1, 3, 0, 3],\n",
       "       [1, 2, 0, 0, 1]])"
      ]
     },
     "execution_count": 34,
     "metadata": {},
     "output_type": "execute_result"
    }
   ],
   "source": [
    "a.argmin(axis=2)"
   ]
  },
  {
   "cell_type": "code",
   "execution_count": null,
   "id": "d6a05d92",
   "metadata": {},
   "outputs": [],
   "source": []
  }
 ],
 "metadata": {
  "kernelspec": {
   "display_name": "Python 3 (ipykernel)",
   "language": "python",
   "name": "python3"
  },
  "language_info": {
   "codemirror_mode": {
    "name": "ipython",
    "version": 3
   },
   "file_extension": ".py",
   "mimetype": "text/x-python",
   "name": "python",
   "nbconvert_exporter": "python",
   "pygments_lexer": "ipython3",
   "version": "3.7.16"
  }
 },
 "nbformat": 4,
 "nbformat_minor": 5
}
